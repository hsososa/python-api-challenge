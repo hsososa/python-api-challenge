{
 "cells": [
  {
   "cell_type": "markdown",
   "metadata": {},
   "source": [
    "# WeatherPy\n",
    "----\n",
    "\n",
    "#### Note\n",
    "* Instructions have been included for each segment. You do not have to follow them exactly, but they are included to help you think through the steps."
   ]
  },
  {
   "cell_type": "code",
   "execution_count": 1,
   "metadata": {
    "scrolled": true
   },
   "outputs": [],
   "source": [
    "# Dependencies and Setup\n",
    "import matplotlib.pyplot as plt\n",
    "import pandas as pd\n",
    "import numpy as np\n",
    "import scipy.stats as st\n",
    "import requests\n",
    "import time\n",
    "from scipy.stats import linregress\n",
    "\n",
    "# Import API key\n",
    "from api_keys import weather_api_key\n",
    "\n",
    "# Incorporated citipy to determine city based on latitude and longitude\n",
    "# Installed citipy in console with \"pip install citipy\"\n",
    "from citipy import citipy\n",
    "\n",
    "# Output File (CSV)\n",
    "output_data_file = \"output_data/cities.csv\"\n",
    "\n",
    "# Range of latitudes and longitudes\n",
    "lat_range = (-90, 90)\n",
    "lng_range = (-180, 180)"
   ]
  },
  {
   "cell_type": "markdown",
   "metadata": {},
   "source": [
    "## Generate Cities List"
   ]
  },
  {
   "cell_type": "code",
   "execution_count": 2,
   "metadata": {},
   "outputs": [
    {
     "data": {
      "text/plain": [
       "608"
      ]
     },
     "execution_count": 2,
     "metadata": {},
     "output_type": "execute_result"
    }
   ],
   "source": [
    "# List for holding lat_lngs and cities\n",
    "lat_lngs = []\n",
    "cities = []\n",
    "\n",
    "# Create a set of random lat and lng combinations\n",
    "lats = np.random.uniform(lat_range[0], lat_range[1], size=1500)\n",
    "lngs = np.random.uniform(lng_range[0], lng_range[1], size=1500)\n",
    "lat_lngs = zip(lats, lngs)\n",
    "\n",
    "# Identify nearest city for each lat, lng combination\n",
    "for lat_lng in lat_lngs:\n",
    "    city = citipy.nearest_city(lat_lng[0], lat_lng[1]).city_name\n",
    "    \n",
    "    # If the city is unique, then add it to a our cities list\n",
    "    if city not in cities:\n",
    "        cities.append(city)\n",
    "\n",
    "# Print the city count to confirm sufficient count\n",
    "len(cities)"
   ]
  },
  {
   "cell_type": "markdown",
   "metadata": {},
   "source": [
    "### Perform API Calls\n",
    "* Perform a weather check on each city using a series of successive API calls.\n",
    "* Include a print log of each city as it'sbeing processed (with the city number and city name).\n",
    "\n",
    "> **HINT:** The OpenWeatherMap API only allows 60 calls per minute under their free plan. Try using `time.sleep(60)` after each set of 50 cities to avoid API errors due to large calls."
   ]
  },
  {
   "cell_type": "markdown",
   "metadata": {},
   "source": []
  },
  {
   "cell_type": "code",
   "execution_count": 23,
   "metadata": {
    "scrolled": false
   },
   "outputs": [
    {
     "name": "stdout",
     "output_type": "stream",
     "text": [
      "Found: port alfred\n",
      "Found: piacabucu\n",
      "Found: puerto ayora\n",
      "Found: punta arenas\n",
      "Found: port elizabeth\n",
      "Found: toguchin\n",
      "Found: atuona\n",
      "Found: hermanus\n",
      "Found: vanderhoof\n",
      "Found: ilulissat\n",
      "Found: nome\n",
      "NOT Found: taolanaro\n",
      "Found: bredasdorp\n",
      "Found: norman wells\n",
      "Found: meulaboh\n",
      "Found: lagoa\n",
      "Found: hobart\n",
      "Found: albany\n",
      "Found: busselton\n",
      "Found: ust-nera\n",
      "Found: bluff\n",
      "NOT Found: barentsburg\n",
      "Found: burnie\n",
      "Found: qarqin\n",
      "Found: fuling\n",
      "Found: rikitea\n",
      "Found: lebu\n",
      "NOT Found: tubruq\n",
      "Found: cherskiy\n",
      "Found: dafeng\n",
      "Found: presque isle\n",
      "NOT Found: vaitupu\n",
      "Found: vagay\n",
      "Found: bintulu\n",
      "Found: barinas\n",
      "Found: qaanaaq\n",
      "NOT Found: grand river south east\n",
      "Found: grande prairie\n",
      "Found: butaritari\n",
      "Found: paamiut\n",
      "Found: kodiak\n",
      "Found: chuy\n",
      "Found: auki\n",
      "Found: inhambane\n",
      "Found: thompson\n",
      "Found: cape town\n",
      "Found: hailar\n",
      "Found: medea\n",
      "Found: lakes entrance\n",
      "Found: korla\n",
      "Found: ushuaia\n",
      "Found: mataura\n",
      "Found: hassleholm\n",
      "NOT Found: samusu\n",
      "Found: fairbanks\n",
      "Found: chokurdakh\n",
      "Found: khatanga\n",
      "Found: virginia beach\n",
      "Found: abu samrah\n",
      "Found: east london\n",
      "Found: daru\n",
      "Found: moerai\n",
      "Found: klaksvik\n",
      "Found: inca\n",
      "Found: ponta do sol\n",
      "Found: ostrovnoy\n",
      "Found: tuktoyaktuk\n",
      "Found: mogadishu\n",
      "Found: meadow lake\n",
      "Found: porto walter\n",
      "NOT Found: illoqqortoormiut\n",
      "Found: tura\n",
      "Found: las vegas\n",
      "Found: constitucion\n",
      "Found: faanui\n",
      "NOT Found: tsihombe\n",
      "Found: jamestown\n",
      "NOT Found: taburi\n",
      "Found: oranjestad\n",
      "Found: amalapuram\n",
      "NOT Found: mouzakion\n",
      "Found: hithadhoo\n",
      "Found: windhoek\n",
      "Found: kapaa\n",
      "Found: olafsvik\n",
      "Found: pingshan\n",
      "Found: kysyl-syr\n",
      "Found: sao jose da coroa grande\n",
      "Found: airai\n",
      "Found: tessalit\n",
      "Found: iqaluit\n",
      "Found: san patricio\n",
      "Found: fort myers beach\n",
      "Found: paengaroa\n",
      "Found: half moon bay\n",
      "Found: pisco\n",
      "Found: sharan\n",
      "Found: antofagasta\n",
      "Found: kushima\n",
      "NOT Found: khonuu\n",
      "Found: porto novo\n",
      "Found: altina\n",
      "Found: hauterive\n",
      "NOT Found: tiruvottiyur\n",
      "Found: yugorsk\n",
      "Found: ambilobe\n",
      "Found: matagami\n",
      "Found: puerto madryn\n",
      "Found: nieves\n",
      "Found: upernavik\n",
      "Found: avarua\n",
      "Found: lavrentiya\n",
      "NOT Found: palabuhanratu\n",
      "Found: ilebo\n",
      "Found: bayeux\n",
      "Found: teya\n",
      "Found: vaini\n",
      "Found: bac lieu\n",
      "Found: severnoye\n",
      "Found: lima\n",
      "Found: new norfolk\n",
      "Found: pacific grove\n",
      "Found: castro\n",
      "Found: baillif\n",
      "Found: arraial do cabo\n",
      "Found: broome\n",
      "Found: eureka\n",
      "Found: salihorsk\n",
      "Found: westport\n",
      "NOT Found: anar darreh\n",
      "Found: hilo\n",
      "Found: eyl\n",
      "Found: alamosa\n",
      "Found: caravelas\n",
      "Found: vestmannaeyjar\n",
      "Found: gimli\n",
      "Found: pevek\n",
      "Found: grindavik\n",
      "Found: tulun\n",
      "Found: nemuro\n",
      "Found: luganville\n",
      "Found: jadu\n",
      "Found: lazaro cardenas\n",
      "Found: malakal\n",
      "Found: papara\n",
      "Found: mosonszentmiklos\n",
      "Found: clyde river\n",
      "Found: maceio\n",
      "Found: kizukuri\n",
      "Found: beisfjord\n",
      "Found: yellowknife\n",
      "Found: nikolskoye\n",
      "Found: guaraniacu\n",
      "Found: chirongui\n",
      "Found: iquique\n",
      "Found: provideniya\n",
      "Found: codrington\n",
      "Found: dudinka\n",
      "Found: inta\n",
      "Found: general roca\n",
      "Found: bulgan\n",
      "Found: fort nelson\n",
      "Found: quatre cocos\n",
      "Found: copiapo\n",
      "Found: buraydah\n",
      "Found: saint-philippe\n",
      "Found: mahajanga\n",
      "Found: sampit\n",
      "Found: mahanoro\n",
      "Found: tasiilaq\n",
      "Found: torbay\n",
      "Found: ancud\n",
      "Found: carnarvon\n",
      "Found: sulucan\n",
      "Found: kamenka\n",
      "Found: alimpesti\n",
      "Found: kuching\n",
      "Found: antalya\n",
      "Found: barrow\n",
      "NOT Found: attawapiskat\n",
      "Found: san quintin\n",
      "NOT Found: temaraia\n",
      "Found: bud\n",
      "Found: atar\n",
      "Found: hualmay\n",
      "Found: georgetown\n",
      "Found: longyearbyen\n",
      "Found: dingle\n",
      "Found: husavik\n",
      "Found: wellington\n",
      "Found: cidreira\n",
      "NOT Found: tabiauea\n",
      "Found: dikson\n",
      "Found: winnemucca\n",
      "Found: manyana\n",
      "Found: tabanan\n",
      "Found: kaeo\n",
      "Found: san luis\n",
      "Found: mahebourg\n",
      "Found: awbari\n",
      "Found: alekseyevsk\n",
      "Found: saskylakh\n",
      "NOT Found: falaleu\n",
      "NOT Found: inderborskiy\n",
      "Found: coihaique\n",
      "Found: san vicente\n",
      "Found: cavalcante\n",
      "Found: pilar\n",
      "Found: bima\n",
      "Found: lorengau\n",
      "NOT Found: aporawan\n",
      "Found: sinnamary\n",
      "Found: pinczow\n",
      "Found: port hedland\n",
      "Found: yulara\n",
      "NOT Found: mys shmidta\n",
      "Found: alta floresta\n",
      "Found: cockburn town\n",
      "Found: samarai\n",
      "Found: bagdarin\n",
      "NOT Found: nizhneyansk\n",
      "NOT Found: sentyabrskiy\n",
      "Found: hasaki\n",
      "Found: tchaourou\n",
      "NOT Found: maghama\n",
      "Found: andenes\n",
      "Found: tongzi\n",
      "Found: boyolangu\n",
      "Found: muzhi\n",
      "Found: saint george\n",
      "Found: lalibela\n",
      "Found: leua\n",
      "Found: mana\n",
      "Found: la libertad\n",
      "Found: nyurba\n",
      "Found: houma\n",
      "Found: college\n",
      "Found: mecca\n",
      "Found: lukovetskiy\n",
      "Found: mugumu\n",
      "Found: kadur\n",
      "Found: saint-ambroise\n",
      "Found: dwarka\n",
      "Found: nynashamn\n",
      "Found: kruisfontein\n",
      "Found: tezu\n",
      "Found: leningradskiy\n",
      "Found: bengkulu\n",
      "Found: pangai\n",
      "Found: verkhnyaya inta\n",
      "Found: asau\n",
      "Found: havoysund\n",
      "Found: severo-kurilsk\n",
      "Found: kyaikkami\n",
      "Found: north bend\n",
      "Found: tonekabon\n",
      "Found: richards bay\n",
      "Found: abrau-dyurso\n",
      "Found: oktyabrskiy\n",
      "Found: chernyshevskiy\n",
      "Found: namwala\n",
      "Found: pumiao\n",
      "Found: mataundh\n",
      "Found: victoria\n",
      "Found: french harbor\n",
      "Found: cervo\n",
      "Found: bethel\n",
      "Found: rio claro\n",
      "Found: phan thiet\n",
      "Found: panguna\n",
      "Found: taoudenni\n",
      "Found: luancheng\n",
      "Found: palmer\n",
      "Found: shu\n",
      "Found: biak\n",
      "Found: honningsvag\n",
      "Found: talnakh\n",
      "Found: moose factory\n",
      "Found: aswan\n",
      "Found: vao\n",
      "Found: adrar\n",
      "Found: udachnyy\n",
      "Found: maragogi\n",
      "Found: labuhan\n",
      "Found: san cristobal\n",
      "Found: talaya\n",
      "Found: prince george\n",
      "Found: lasa\n",
      "Found: te anau\n",
      "Found: kavieng\n",
      "Found: karratha\n",
      "Found: toppenish\n",
      "Found: tuatapere\n",
      "Found: ribeira grande\n",
      "NOT Found: belushya guba\n",
      "Found: tautira\n",
      "Found: bambous virieux\n",
      "Found: portel\n",
      "Found: nikki\n",
      "Found: umba\n",
      "Found: namibe\n",
      "NOT Found: umzimvubu\n",
      "Found: deputatskiy\n",
      "Found: kaitangata\n",
      "Found: sambava\n",
      "Found: shadegan\n",
      "Found: luanda\n",
      "Found: kudat\n",
      "Found: riyadh\n",
      "Found: pushkar\n",
      "Found: semey\n",
      "Found: kavaratti\n",
      "Found: gachala\n",
      "Found: innisfail\n",
      "Found: guerrero negro\n",
      "Found: kasimov\n",
      "Found: grand gaube\n",
      "Found: cabatuan\n",
      "Found: qaqortoq\n",
      "Found: viedma\n",
      "Found: taltal\n",
      "Found: tommot\n",
      "Found: paramonga\n",
      "Found: prainha\n",
      "Found: saint-denis\n",
      "Found: telimele\n",
      "Found: umm lajj\n",
      "NOT Found: tumannyy\n",
      "NOT Found: rungata\n",
      "Found: aloleng\n",
      "Found: palana\n",
      "Found: kulachi\n",
      "Found: quelimane\n",
      "Found: christchurch\n",
      "Found: markova\n",
      "Found: portland\n",
      "Found: aklavik\n",
      "Found: vila velha\n",
      "Found: vanimo\n",
      "Found: moree\n",
      "Found: suchdol nad luznici\n",
      "Found: nanortalik\n",
      "Found: santa cruz\n",
      "NOT Found: tawkar\n",
      "Found: snezhnogorsk\n",
      "Found: panaba\n",
      "Found: sur\n",
      "Found: port townsend\n",
      "Found: mayo\n",
      "Found: plettenberg bay\n",
      "Found: grand-santi\n",
      "Found: riachao\n",
      "Found: geraldton\n",
      "Found: sabang\n",
      "Found: qinzhou\n",
      "Found: balfour\n",
      "Found: talcahuano\n",
      "Found: mar del plata\n",
      "Found: bathsheba\n",
      "NOT Found: bargal\n",
      "NOT Found: allanmyo\n",
      "Found: batemans bay\n",
      "Found: orshanka\n",
      "Found: haines junction\n",
      "Found: haysville\n",
      "Found: chhachhrauli\n",
      "Found: veraval\n",
      "Found: young\n",
      "Found: tiksi\n",
      "Found: isla mujeres\n",
      "Found: vila\n",
      "Found: the valley\n",
      "Found: antsohihy\n",
      "Found: charleston\n",
      "Found: champerico\n",
      "Found: saint-georges\n",
      "Found: amga\n",
      "Found: acapulco\n",
      "Found: pesaro\n",
      "Found: ulaanbaatar\n",
      "Found: terrace\n",
      "Found: wilmington\n",
      "Found: saldanha\n",
      "Found: port lincoln\n",
      "Found: mount gambier\n",
      "Found: povenets\n",
      "Found: matay\n",
      "Found: wuzhou\n",
      "Found: mbini\n",
      "Found: excelsior springs\n",
      "Found: shinpokh\n",
      "Found: gazli\n",
      "Found: bereda\n",
      "Found: cardston\n",
      "NOT Found: amderma\n",
      "Found: majene\n",
      "Found: los llanos de aridane\n",
      "Found: elkhart\n",
      "Found: santa marta\n",
      "Found: margate\n",
      "Found: moron\n",
      "Found: kinshasa\n",
      "NOT Found: el balyana\n",
      "Found: sal rei\n",
      "Found: estevan\n",
      "Found: chupaca\n",
      "Found: turukhansk\n",
      "NOT Found: unye\n",
      "Found: mnogovershinnyy\n",
      "Found: bilibino\n",
      "Found: scarborough\n",
      "Found: kurilsk\n",
      "Found: huarmey\n",
      "Found: marsa matruh\n",
      "Found: sena madureira\n",
      "Found: filadelfia\n",
      "Found: nelson bay\n",
      "Found: cayenne\n",
      "Found: mapiripan\n",
      "Found: kisangani\n",
      "Found: narsaq\n",
      "NOT Found: armacao dos buzios\n",
      "Found: roald\n",
      "Found: shingu\n",
      "Found: dongsheng\n",
      "Found: coruripe\n",
      "Found: vuktyl\n",
      "Found: jasmine estates\n",
      "NOT Found: warqla\n",
      "NOT Found: lolua\n",
      "Found: leh\n",
      "Found: lubango\n",
      "Found: faya\n",
      "Found: peniche\n",
      "Found: gat\n",
      "Found: sorong\n",
      "Found: cabra\n",
      "Found: khandagayty\n",
      "Found: ransang\n",
      "Found: broken hill\n",
      "Found: alofi\n",
      "Found: kungurtug\n",
      "Found: aripuana\n",
      "Found: oistins\n",
      "Found: okhotsk\n",
      "Found: maloy\n",
      "Found: anchorage\n",
      "Found: puerto escondido\n",
      "Found: stavyshche\n",
      "Found: whitehorse\n",
      "Found: cairns\n",
      "Found: miranda\n",
      "Found: coquimbo\n",
      "Found: amberley\n",
      "Found: shubarshi\n",
      "Found: pustoshka\n",
      "Found: bataipora\n",
      "Found: shellbrook\n",
      "Found: itacarambi\n",
      "Found: kokopo\n",
      "Found: nipawin\n",
      "Found: odweyne\n",
      "Found: havre-saint-pierre\n",
      "Found: caiaponia\n",
      "Found: lashio\n",
      "Found: waingapu\n",
      "Found: darab\n",
      "Found: pangkalanbuun\n",
      "Found: chebsara\n",
      "Found: khasan\n",
      "Found: ternate\n",
      "Found: baruun-urt\n",
      "Found: port hawkesbury\n",
      "Found: izhma\n",
      "Found: campoverde\n",
      "Found: bundaberg\n",
      "Found: anadyr\n",
      "Found: abu kamal\n",
      "Found: rio grande\n",
      "Found: aksha\n",
      "Found: ibipeba\n",
      "Found: rundu\n",
      "Found: matara\n",
      "Found: tupik\n",
      "Found: holme\n",
      "Found: pucallpa\n",
      "Found: toora-khem\n",
      "Found: aksu\n",
      "Found: xiaoweizhai\n",
      "Found: wanning\n",
      "NOT Found: jinchengjiang\n",
      "Found: marienburg\n"
     ]
    },
    {
     "name": "stdout",
     "output_type": "stream",
     "text": [
      "Found: salalah\n",
      "Found: zhigansk\n",
      "Found: shangqiu\n",
      "Found: katsuura\n",
      "Found: taua\n",
      "Found: hovd\n",
      "Found: sao filipe\n",
      "Found: bloemhof\n",
      "Found: tagusao\n",
      "Found: pangnirtung\n",
      "Found: coron\n",
      "NOT Found: katsiveli\n",
      "Found: pingxiang\n",
      "Found: simbahan\n",
      "Found: savelugu\n",
      "Found: artyom\n",
      "Found: padang\n",
      "Found: berbera\n",
      "Found: ballina\n",
      "Found: cuamba\n",
      "Found: shumikha\n",
      "Found: preobrazheniye\n",
      "Found: belaya gora\n",
      "Found: pitimbu\n",
      "Found: cross lanes\n",
      "Found: xam nua\n",
      "Found: uarini\n",
      "Found: alice springs\n",
      "Found: makakilo city\n",
      "Found: henties bay\n",
      "Found: kodra\n",
      "Found: atambua\n",
      "Found: ilo\n",
      "Found: hami\n",
      "Found: port blair\n",
      "Found: atarra\n",
      "Found: port-cartier\n",
      "Found: kumluca\n",
      "Found: masallatah\n",
      "Found: asheboro\n",
      "Found: erenhot\n",
      "Found: sitka\n",
      "NOT Found: saleaula\n",
      "Found: cotonou\n",
      "Found: port-de-bouc\n",
      "Found: kichera\n",
      "Found: mporokoso\n",
      "Found: araouane\n",
      "Found: tabora\n",
      "NOT Found: sedelnikovo\n",
      "Found: touros\n",
      "Found: juneau\n",
      "Found: svetlyy\n",
      "Found: ust-tsilma\n",
      "Found: pacifica\n",
      "Found: emba\n",
      "Found: la seyne-sur-mer\n",
      "Found: channel-port aux basques\n",
      "Found: mirnyy\n",
      "Found: tucupita\n",
      "Found: wenling\n",
      "Found: ixtapa\n",
      "Found: marau\n",
      "Found: bogatyye saby\n",
      "Found: bar harbor\n",
      "Found: souillac\n",
      "Found: la rioja\n",
      "Found: stornoway\n",
      "Found: naruto\n",
      "Found: kandi\n",
      "Found: beyneu\n",
      "Found: nea peramos\n",
      "Found: longyan\n",
      "Found: creel\n",
      "Found: charlestown\n",
      "Found: turbat\n",
      "NOT Found: houlung\n",
      "Found: ust-maya\n",
      "Found: oarai\n",
      "Found: isangel\n",
      "Found: bougouni\n",
      "NOT Found: kegayli\n",
      "Found: kutum\n",
      "Found: kumano\n",
      "Found: durban\n",
      "Found: arkhangelsk\n",
      "Found: caucaia\n",
      "Found: marshfield\n",
      "Found: warri\n",
      "Found: torrington\n",
      "Found: ewa beach\n",
      "Found: paungde\n",
      "Found: alihe\n",
      "Found: jalu\n",
      "Found: miandrivazo\n",
      "Found: batagay\n",
      "Found: hambantota\n",
      "Found: san jeronimo\n",
      "Found: amurzet\n",
      "Found: sao joao da barra\n",
      "Found: fugen\n",
      "Found: bambanglipuro\n",
      "Found: castiglione del lago\n",
      "Found: sahawar\n",
      "Found: pedernales\n",
      "Found: bubaque\n",
      "NOT Found: umm ruwabah\n",
      "Found: batsfjord\n",
      "NOT Found: malwan\n",
      "Found: volksrust\n",
      "Found: bangassou\n",
      "Found: haukipudas\n",
      "Found: balkanabat\n",
      "Found: seoul\n",
      "Found: lompoc\n",
      "Found: thyboron\n"
     ]
    }
   ],
   "source": [
    "# Creating the query url using API call documented here: https://openweathermap.org/current\n",
    "url = \"http://api.openweathermap.org/data/2.5/weather?\"\n",
    "unit = \"imperial\"\n",
    "query_url = f\"{url}&appid={weather_api_key}&units={unit}&q=\"\n",
    "\n",
    "# Initializing lists for results from query\n",
    "lat = []\n",
    "lng = []\n",
    "found_cities = []\n",
    "temp = []\n",
    "humidity = []\n",
    "cloudiness = []\n",
    "windspeed = []\n",
    "date = []\n",
    "country = []\n",
    "city_id = []\n",
    "\n",
    "for i in range(0,len(cities)):\n",
    "    try:\n",
    "        response = requests.get(query_url + cities[i]).json()\n",
    "        \n",
    "        lat.append(response['coord']['lat'])\n",
    "        lng.append(response['coord']['lon'])\n",
    "        temp.append(response['main']['temp'])\n",
    "        humidity.append(response['main']['humidity'])\n",
    "        cloudiness.append(response['clouds']['all'])\n",
    "        windspeed.append(response['wind']['speed'])\n",
    "        date.append(response['dt'])\n",
    "        country.append(response['sys']['country'])\n",
    "        found_cities.append(response['name'])\n",
    "        city_id.append(response['id'])\n",
    "        print(f'Found: {cities[i]}')\n",
    "    except:  \n",
    "        print(f'NOT Found: {cities[i]}')\n",
    "        \n"
   ]
  },
  {
   "cell_type": "markdown",
   "metadata": {},
   "source": [
    "### Convert Raw Data to DataFrame\n",
    "* Export the city data into a .csv.\n",
    "* Display the DataFrame"
   ]
  },
  {
   "cell_type": "code",
   "execution_count": 24,
   "metadata": {},
   "outputs": [
    {
     "data": {
      "text/html": [
       "<div>\n",
       "<style scoped>\n",
       "    .dataframe tbody tr th:only-of-type {\n",
       "        vertical-align: middle;\n",
       "    }\n",
       "\n",
       "    .dataframe tbody tr th {\n",
       "        vertical-align: top;\n",
       "    }\n",
       "\n",
       "    .dataframe thead th {\n",
       "        text-align: right;\n",
       "    }\n",
       "</style>\n",
       "<table border=\"1\" class=\"dataframe\">\n",
       "  <thead>\n",
       "    <tr style=\"text-align: right;\">\n",
       "      <th></th>\n",
       "      <th>City</th>\n",
       "      <th>Lat</th>\n",
       "      <th>Lng</th>\n",
       "      <th>Max Temp</th>\n",
       "      <th>Humidity</th>\n",
       "      <th>Cloudiness</th>\n",
       "      <th>Wind Speed</th>\n",
       "      <th>Country</th>\n",
       "      <th>Date</th>\n",
       "    </tr>\n",
       "  </thead>\n",
       "  <tbody>\n",
       "    <tr>\n",
       "      <th>0</th>\n",
       "      <td>Port Alfred</td>\n",
       "      <td>-33.5906</td>\n",
       "      <td>26.8910</td>\n",
       "      <td>73.04</td>\n",
       "      <td>91</td>\n",
       "      <td>90</td>\n",
       "      <td>12.35</td>\n",
       "      <td>ZA</td>\n",
       "      <td>1643860658</td>\n",
       "    </tr>\n",
       "    <tr>\n",
       "      <th>1</th>\n",
       "      <td>Piaçabuçu</td>\n",
       "      <td>-10.4056</td>\n",
       "      <td>-36.4344</td>\n",
       "      <td>77.90</td>\n",
       "      <td>78</td>\n",
       "      <td>56</td>\n",
       "      <td>7.09</td>\n",
       "      <td>BR</td>\n",
       "      <td>1643860658</td>\n",
       "    </tr>\n",
       "    <tr>\n",
       "      <th>2</th>\n",
       "      <td>Puerto Ayora</td>\n",
       "      <td>-0.7393</td>\n",
       "      <td>-90.3518</td>\n",
       "      <td>74.55</td>\n",
       "      <td>92</td>\n",
       "      <td>1</td>\n",
       "      <td>4.00</td>\n",
       "      <td>EC</td>\n",
       "      <td>1643860658</td>\n",
       "    </tr>\n",
       "    <tr>\n",
       "      <th>3</th>\n",
       "      <td>Punta Arenas</td>\n",
       "      <td>-53.1500</td>\n",
       "      <td>-70.9167</td>\n",
       "      <td>44.42</td>\n",
       "      <td>70</td>\n",
       "      <td>75</td>\n",
       "      <td>4.61</td>\n",
       "      <td>CL</td>\n",
       "      <td>1643860659</td>\n",
       "    </tr>\n",
       "    <tr>\n",
       "      <th>4</th>\n",
       "      <td>Port Elizabeth</td>\n",
       "      <td>-33.9180</td>\n",
       "      <td>25.5701</td>\n",
       "      <td>70.09</td>\n",
       "      <td>88</td>\n",
       "      <td>40</td>\n",
       "      <td>12.66</td>\n",
       "      <td>ZA</td>\n",
       "      <td>1643860659</td>\n",
       "    </tr>\n",
       "    <tr>\n",
       "      <th>...</th>\n",
       "      <td>...</td>\n",
       "      <td>...</td>\n",
       "      <td>...</td>\n",
       "      <td>...</td>\n",
       "      <td>...</td>\n",
       "      <td>...</td>\n",
       "      <td>...</td>\n",
       "      <td>...</td>\n",
       "      <td>...</td>\n",
       "    </tr>\n",
       "    <tr>\n",
       "      <th>558</th>\n",
       "      <td>Haukipudas</td>\n",
       "      <td>65.1765</td>\n",
       "      <td>25.3523</td>\n",
       "      <td>-7.55</td>\n",
       "      <td>96</td>\n",
       "      <td>97</td>\n",
       "      <td>2.48</td>\n",
       "      <td>FI</td>\n",
       "      <td>1643860404</td>\n",
       "    </tr>\n",
       "    <tr>\n",
       "      <th>559</th>\n",
       "      <td>Balkanabat</td>\n",
       "      <td>39.5108</td>\n",
       "      <td>54.3671</td>\n",
       "      <td>50.23</td>\n",
       "      <td>30</td>\n",
       "      <td>4</td>\n",
       "      <td>8.57</td>\n",
       "      <td>TM</td>\n",
       "      <td>1643860405</td>\n",
       "    </tr>\n",
       "    <tr>\n",
       "      <th>560</th>\n",
       "      <td>Seoul</td>\n",
       "      <td>37.5683</td>\n",
       "      <td>126.9778</td>\n",
       "      <td>30.42</td>\n",
       "      <td>37</td>\n",
       "      <td>0</td>\n",
       "      <td>9.22</td>\n",
       "      <td>KR</td>\n",
       "      <td>1643860140</td>\n",
       "    </tr>\n",
       "    <tr>\n",
       "      <th>561</th>\n",
       "      <td>Lompoc</td>\n",
       "      <td>34.6391</td>\n",
       "      <td>-120.4579</td>\n",
       "      <td>51.60</td>\n",
       "      <td>48</td>\n",
       "      <td>0</td>\n",
       "      <td>6.91</td>\n",
       "      <td>US</td>\n",
       "      <td>1643860406</td>\n",
       "    </tr>\n",
       "    <tr>\n",
       "      <th>562</th>\n",
       "      <td>Thyborøn</td>\n",
       "      <td>56.6985</td>\n",
       "      <td>8.2124</td>\n",
       "      <td>42.21</td>\n",
       "      <td>94</td>\n",
       "      <td>100</td>\n",
       "      <td>13.13</td>\n",
       "      <td>DK</td>\n",
       "      <td>1643860406</td>\n",
       "    </tr>\n",
       "  </tbody>\n",
       "</table>\n",
       "<p>563 rows × 9 columns</p>\n",
       "</div>"
      ],
      "text/plain": [
       "               City      Lat       Lng  Max Temp  Humidity  Cloudiness  \\\n",
       "0       Port Alfred -33.5906   26.8910     73.04        91          90   \n",
       "1         Piaçabuçu -10.4056  -36.4344     77.90        78          56   \n",
       "2      Puerto Ayora  -0.7393  -90.3518     74.55        92           1   \n",
       "3      Punta Arenas -53.1500  -70.9167     44.42        70          75   \n",
       "4    Port Elizabeth -33.9180   25.5701     70.09        88          40   \n",
       "..              ...      ...       ...       ...       ...         ...   \n",
       "558      Haukipudas  65.1765   25.3523     -7.55        96          97   \n",
       "559      Balkanabat  39.5108   54.3671     50.23        30           4   \n",
       "560           Seoul  37.5683  126.9778     30.42        37           0   \n",
       "561          Lompoc  34.6391 -120.4579     51.60        48           0   \n",
       "562        Thyborøn  56.6985    8.2124     42.21        94         100   \n",
       "\n",
       "     Wind Speed Country        Date  \n",
       "0         12.35      ZA  1643860658  \n",
       "1          7.09      BR  1643860658  \n",
       "2          4.00      EC  1643860658  \n",
       "3          4.61      CL  1643860659  \n",
       "4         12.66      ZA  1643860659  \n",
       "..          ...     ...         ...  \n",
       "558        2.48      FI  1643860404  \n",
       "559        8.57      TM  1643860405  \n",
       "560        9.22      KR  1643860140  \n",
       "561        6.91      US  1643860406  \n",
       "562       13.13      DK  1643860406  \n",
       "\n",
       "[563 rows x 9 columns]"
      ]
     },
     "execution_count": 24,
     "metadata": {},
     "output_type": "execute_result"
    }
   ],
   "source": [
    "weather_df = pd.DataFrame({'City': found_cities,\n",
    "                          'Lat': lat,\n",
    "                          'Lng': lng,\n",
    "                          'Max Temp': temp,\n",
    "                          'Humidity': humidity,\n",
    "                          'Cloudiness': cloudiness,\n",
    "                          'Wind Speed': windspeed,\n",
    "                          'Country': country,\n",
    "                          'Date': date})\n",
    "weather_df.to_csv('city_data.csv', index = False, mode = 'w+')\n",
    "weather_df"
   ]
  },
  {
   "cell_type": "markdown",
   "metadata": {},
   "source": [
    "## Inspect the data and remove the cities where the humidity > 100%.\n",
    "----\n",
    "Skip this step if there are no cities that have humidity > 100%. "
   ]
  },
  {
   "cell_type": "code",
   "execution_count": 25,
   "metadata": {},
   "outputs": [
    {
     "data": {
      "text/plain": [
       "[5, 53, 137, 143, 160, 184, 217, 373, 420, 500]"
      ]
     },
     "execution_count": 25,
     "metadata": {},
     "output_type": "execute_result"
    }
   ],
   "source": [
    "#  Get the indices of cities that have humidity over 100%.\n",
    "cities_hum_100 = weather_df.index[weather_df['Humidity'] == 100].tolist()\n",
    "\n",
    "if len(cities_hum_100) == 0:\n",
    "    print(f'No cities have humidity over 100%')\n",
    "\n",
    "cities_hum_100"
   ]
  },
  {
   "cell_type": "code",
   "execution_count": 26,
   "metadata": {},
   "outputs": [
    {
     "data": {
      "text/html": [
       "<div>\n",
       "<style scoped>\n",
       "    .dataframe tbody tr th:only-of-type {\n",
       "        vertical-align: middle;\n",
       "    }\n",
       "\n",
       "    .dataframe tbody tr th {\n",
       "        vertical-align: top;\n",
       "    }\n",
       "\n",
       "    .dataframe thead th {\n",
       "        text-align: right;\n",
       "    }\n",
       "</style>\n",
       "<table border=\"1\" class=\"dataframe\">\n",
       "  <thead>\n",
       "    <tr style=\"text-align: right;\">\n",
       "      <th></th>\n",
       "      <th>City</th>\n",
       "      <th>Lat</th>\n",
       "      <th>Lng</th>\n",
       "      <th>Max Temp</th>\n",
       "      <th>Humidity</th>\n",
       "      <th>Cloudiness</th>\n",
       "      <th>Wind Speed</th>\n",
       "      <th>Country</th>\n",
       "      <th>Date</th>\n",
       "    </tr>\n",
       "  </thead>\n",
       "  <tbody>\n",
       "    <tr>\n",
       "      <th>0</th>\n",
       "      <td>Port Alfred</td>\n",
       "      <td>-33.5906</td>\n",
       "      <td>26.8910</td>\n",
       "      <td>73.04</td>\n",
       "      <td>91</td>\n",
       "      <td>90</td>\n",
       "      <td>12.35</td>\n",
       "      <td>ZA</td>\n",
       "      <td>1643860658</td>\n",
       "    </tr>\n",
       "    <tr>\n",
       "      <th>1</th>\n",
       "      <td>Piaçabuçu</td>\n",
       "      <td>-10.4056</td>\n",
       "      <td>-36.4344</td>\n",
       "      <td>77.90</td>\n",
       "      <td>78</td>\n",
       "      <td>56</td>\n",
       "      <td>7.09</td>\n",
       "      <td>BR</td>\n",
       "      <td>1643860658</td>\n",
       "    </tr>\n",
       "    <tr>\n",
       "      <th>2</th>\n",
       "      <td>Puerto Ayora</td>\n",
       "      <td>-0.7393</td>\n",
       "      <td>-90.3518</td>\n",
       "      <td>74.55</td>\n",
       "      <td>92</td>\n",
       "      <td>1</td>\n",
       "      <td>4.00</td>\n",
       "      <td>EC</td>\n",
       "      <td>1643860658</td>\n",
       "    </tr>\n",
       "    <tr>\n",
       "      <th>3</th>\n",
       "      <td>Punta Arenas</td>\n",
       "      <td>-53.1500</td>\n",
       "      <td>-70.9167</td>\n",
       "      <td>44.42</td>\n",
       "      <td>70</td>\n",
       "      <td>75</td>\n",
       "      <td>4.61</td>\n",
       "      <td>CL</td>\n",
       "      <td>1643860659</td>\n",
       "    </tr>\n",
       "    <tr>\n",
       "      <th>4</th>\n",
       "      <td>Port Elizabeth</td>\n",
       "      <td>-33.9180</td>\n",
       "      <td>25.5701</td>\n",
       "      <td>70.09</td>\n",
       "      <td>88</td>\n",
       "      <td>40</td>\n",
       "      <td>12.66</td>\n",
       "      <td>ZA</td>\n",
       "      <td>1643860659</td>\n",
       "    </tr>\n",
       "    <tr>\n",
       "      <th>...</th>\n",
       "      <td>...</td>\n",
       "      <td>...</td>\n",
       "      <td>...</td>\n",
       "      <td>...</td>\n",
       "      <td>...</td>\n",
       "      <td>...</td>\n",
       "      <td>...</td>\n",
       "      <td>...</td>\n",
       "      <td>...</td>\n",
       "    </tr>\n",
       "    <tr>\n",
       "      <th>558</th>\n",
       "      <td>Haukipudas</td>\n",
       "      <td>65.1765</td>\n",
       "      <td>25.3523</td>\n",
       "      <td>-7.55</td>\n",
       "      <td>96</td>\n",
       "      <td>97</td>\n",
       "      <td>2.48</td>\n",
       "      <td>FI</td>\n",
       "      <td>1643860404</td>\n",
       "    </tr>\n",
       "    <tr>\n",
       "      <th>559</th>\n",
       "      <td>Balkanabat</td>\n",
       "      <td>39.5108</td>\n",
       "      <td>54.3671</td>\n",
       "      <td>50.23</td>\n",
       "      <td>30</td>\n",
       "      <td>4</td>\n",
       "      <td>8.57</td>\n",
       "      <td>TM</td>\n",
       "      <td>1643860405</td>\n",
       "    </tr>\n",
       "    <tr>\n",
       "      <th>560</th>\n",
       "      <td>Seoul</td>\n",
       "      <td>37.5683</td>\n",
       "      <td>126.9778</td>\n",
       "      <td>30.42</td>\n",
       "      <td>37</td>\n",
       "      <td>0</td>\n",
       "      <td>9.22</td>\n",
       "      <td>KR</td>\n",
       "      <td>1643860140</td>\n",
       "    </tr>\n",
       "    <tr>\n",
       "      <th>561</th>\n",
       "      <td>Lompoc</td>\n",
       "      <td>34.6391</td>\n",
       "      <td>-120.4579</td>\n",
       "      <td>51.60</td>\n",
       "      <td>48</td>\n",
       "      <td>0</td>\n",
       "      <td>6.91</td>\n",
       "      <td>US</td>\n",
       "      <td>1643860406</td>\n",
       "    </tr>\n",
       "    <tr>\n",
       "      <th>562</th>\n",
       "      <td>Thyborøn</td>\n",
       "      <td>56.6985</td>\n",
       "      <td>8.2124</td>\n",
       "      <td>42.21</td>\n",
       "      <td>94</td>\n",
       "      <td>100</td>\n",
       "      <td>13.13</td>\n",
       "      <td>DK</td>\n",
       "      <td>1643860406</td>\n",
       "    </tr>\n",
       "  </tbody>\n",
       "</table>\n",
       "<p>553 rows × 9 columns</p>\n",
       "</div>"
      ],
      "text/plain": [
       "               City      Lat       Lng  Max Temp  Humidity  Cloudiness  \\\n",
       "0       Port Alfred -33.5906   26.8910     73.04        91          90   \n",
       "1         Piaçabuçu -10.4056  -36.4344     77.90        78          56   \n",
       "2      Puerto Ayora  -0.7393  -90.3518     74.55        92           1   \n",
       "3      Punta Arenas -53.1500  -70.9167     44.42        70          75   \n",
       "4    Port Elizabeth -33.9180   25.5701     70.09        88          40   \n",
       "..              ...      ...       ...       ...       ...         ...   \n",
       "558      Haukipudas  65.1765   25.3523     -7.55        96          97   \n",
       "559      Balkanabat  39.5108   54.3671     50.23        30           4   \n",
       "560           Seoul  37.5683  126.9778     30.42        37           0   \n",
       "561          Lompoc  34.6391 -120.4579     51.60        48           0   \n",
       "562        Thyborøn  56.6985    8.2124     42.21        94         100   \n",
       "\n",
       "     Wind Speed Country        Date  \n",
       "0         12.35      ZA  1643860658  \n",
       "1          7.09      BR  1643860658  \n",
       "2          4.00      EC  1643860658  \n",
       "3          4.61      CL  1643860659  \n",
       "4         12.66      ZA  1643860659  \n",
       "..          ...     ...         ...  \n",
       "558        2.48      FI  1643860404  \n",
       "559        8.57      TM  1643860405  \n",
       "560        9.22      KR  1643860140  \n",
       "561        6.91      US  1643860406  \n",
       "562       13.13      DK  1643860406  \n",
       "\n",
       "[553 rows x 9 columns]"
      ]
     },
     "execution_count": 26,
     "metadata": {},
     "output_type": "execute_result"
    }
   ],
   "source": [
    "# Make a new DataFrame equal to the city data to drop all humidity outliers by index.\n",
    "# Passing \"inplace=False\" will make a copy of the city_data DataFrame, which we call \"clean_city_data\".\n",
    "clean_city_data = weather_df.drop(cities_hum_100)\n",
    "clean_city_data"
   ]
  },
  {
   "cell_type": "markdown",
   "metadata": {},
   "source": [
    "## Plotting the Data\n",
    "* Use proper labeling of the plots using plot titles (including date of analysis) and axes labels.\n",
    "* Save the plotted figures as .pngs."
   ]
  },
  {
   "cell_type": "markdown",
   "metadata": {},
   "source": [
    "## Latitude vs. Temperature Plot"
   ]
  },
  {
   "cell_type": "code",
   "execution_count": 27,
   "metadata": {
    "scrolled": true
   },
   "outputs": [
    {
     "data": {
      "text/plain": [
       "Text(0.5, 1.0, 'Max Temperature vs. City Latitude (2/2/2022)')"
      ]
     },
     "execution_count": 27,
     "metadata": {},
     "output_type": "execute_result"
    },
    {
     "data": {
      "image/png": "[encoded data removed]",
      "text/plain": [
       "<Figure size 432x288 with 1 Axes>"
      ]
     },
     "metadata": {
      "needs_background": "light"
     },
     "output_type": "display_data"
    }
   ],
   "source": [
    "plt.scatter(clean_city_data['Lat'], clean_city_data['Max Temp'])\n",
    "plt.xlabel('Latitude')\n",
    "plt.ylabel('Max Temperature (F)')\n",
    "plt.title('Max Temperature vs. City Latitude (2/2/2022)')"
   ]
  },
  {
   "cell_type": "markdown",
   "metadata": {},
   "source": [
    "## Latitude vs. Humidity Plot"
   ]
  },
  {
   "cell_type": "code",
   "execution_count": 28,
   "metadata": {},
   "outputs": [
    {
     "data": {
      "text/plain": [
       "Text(0.5, 1.0, 'Humidity vs. City Latitude (2/2/2022)')"
      ]
     },
     "execution_count": 28,
     "metadata": {},
     "output_type": "execute_result"
    },
    {
     "data": {
      "image/png": "[encoded data removed]",
      "text/plain": [
       "<Figure size 432x288 with 1 Axes>"
      ]
     },
     "metadata": {
      "needs_background": "light"
     },
     "output_type": "display_data"
    }
   ],
   "source": [
    "plt.scatter(clean_city_data['Lat'], clean_city_data['Humidity'])\n",
    "plt.xlabel('Latitude')\n",
    "plt.ylabel('Humidity (%)')\n",
    "plt.title('Humidity vs. City Latitude (2/2/2022)')"
   ]
  },
  {
   "cell_type": "markdown",
   "metadata": {},
   "source": [
    "## Latitude vs. Cloudiness Plot"
   ]
  },
  {
   "cell_type": "code",
   "execution_count": 29,
   "metadata": {},
   "outputs": [
    {
     "data": {
      "text/plain": [
       "Text(0.5, 1.0, 'Cloudiness vs. City Latitude (2/2/2022)')"
      ]
     },
     "execution_count": 29,
     "metadata": {},
     "output_type": "execute_result"
    },
    {
     "data": {
      "image/png": "[encoded data removed]",
      "text/plain": [
       "<Figure size 432x288 with 1 Axes>"
      ]
     },
     "metadata": {
      "needs_background": "light"
     },
     "output_type": "display_data"
    }
   ],
   "source": [
    "plt.scatter(clean_city_data['Lat'], clean_city_data['Cloudiness'])\n",
    "plt.xlabel('Latitude')\n",
    "plt.ylabel('Cloudiness (%)')\n",
    "plt.title('Cloudiness vs. City Latitude (2/2/2022)')"
   ]
  },
  {
   "cell_type": "markdown",
   "metadata": {},
   "source": [
    "## Latitude vs. Wind Speed Plot"
   ]
  },
  {
   "cell_type": "code",
   "execution_count": 30,
   "metadata": {},
   "outputs": [
    {
     "data": {
      "text/plain": [
       "Text(0.5, 1.0, 'Wind Speed vs. City Latitude (2/2/2022)')"
      ]
     },
     "execution_count": 30,
     "metadata": {},
     "output_type": "execute_result"
    },
    {
     "data": {
      "image/png": "[encoded data removed]",
      "text/plain": [
       "<Figure size 432x288 with 1 Axes>"
      ]
     },
     "metadata": {
      "needs_background": "light"
     },
     "output_type": "display_data"
    }
   ],
   "source": [
    "plt.scatter(clean_city_data['Lat'], clean_city_data['Wind Speed'])\n",
    "plt.xlabel('Latitude')\n",
    "plt.ylabel('Wind Speed (mph)')\n",
    "plt.title('Wind Speed vs. City Latitude (2/2/2022)')"
   ]
  },
  {
   "cell_type": "markdown",
   "metadata": {},
   "source": [
    "## Linear Regression"
   ]
  },
  {
   "cell_type": "code",
   "execution_count": 31,
   "metadata": {},
   "outputs": [],
   "source": [
    "# Finding the cities in the Northern Hemisphere\n",
    "northern_cities_df = clean_city_data[clean_city_data['Lat'] > 0]\n",
    "\n",
    "# Finding the cities in the Southern Hemisphere\n",
    "southern_cities_df = clean_city_data[clean_city_data['Lat'] < 0]"
   ]
  },
  {
   "cell_type": "markdown",
   "metadata": {},
   "source": [
    "####  Northern Hemisphere - Max Temp vs. Latitude Linear Regression"
   ]
  },
  {
   "cell_type": "code",
   "execution_count": 32,
   "metadata": {},
   "outputs": [
    {
     "data": {
      "text/plain": [
       "Text(6, 10, 'y = -1.38x + 91.12')"
      ]
     },
     "execution_count": 32,
     "metadata": {},
     "output_type": "execute_result"
    },
    {
     "data": {
      "image/png": "[encoded data removed]",
      "text/plain": [
       "<Figure size 432x288 with 1 Axes>"
      ]
     },
     "metadata": {
      "needs_background": "light"
     },
     "output_type": "display_data"
    }
   ],
   "source": [
    "# Determining the linear regression of the plot\n",
    "x = northern_cities_df['Lat']\n",
    "y = northern_cities_df['Max Temp']\n",
    "(slope, intercept, rvalue, pvalue, stdder) = st.linregress(x, y)\n",
    "regress_values = x*slope + intercept\n",
    "line_eq = \"y = \" + str(round(slope, 2)) + \"x + \" + str(round(intercept, 2))\n",
    "\n",
    "# Plotting the scatter data for Max Temp vs. Latitude in the Northern Hemisphere\n",
    "plt.scatter(x, y)\n",
    "plt.plot(x, regress_values, 'r-')\n",
    "plt.xlabel('Latitude')\n",
    "plt.ylabel('Max Temperature (F)')\n",
    "plt.title('Northern Hemisphere - Max Temp vs City Latitude (2/2/2022)')\n",
    "plt.annotate(line_eq, (6, 10), fontsize = 15, color = 'red')\n"
   ]
  },
  {
   "cell_type": "markdown",
   "metadata": {},
   "source": [
    "####  Southern Hemisphere - Max Temp vs. Latitude Linear Regression"
   ]
  },
  {
   "cell_type": "code",
   "execution_count": 33,
   "metadata": {},
   "outputs": [
    {
     "data": {
      "text/plain": [
       "Text(-30, 50, 'y = 0.37x + 81.0')"
      ]
     },
     "execution_count": 33,
     "metadata": {},
     "output_type": "execute_result"
    },
    {
     "data": {
      "image/png": "[encoded data removed]",
      "text/plain": [
       "<Figure size 432x288 with 1 Axes>"
      ]
     },
     "metadata": {
      "needs_background": "light"
     },
     "output_type": "display_data"
    }
   ],
   "source": [
    "# Determining the linear regression of the plot\n",
    "x = southern_cities_df['Lat']\n",
    "y = southern_cities_df['Max Temp']\n",
    "(slope, intercept, rvalue, pvalue, stdder) = st.linregress(x, y)\n",
    "regress_values = x*slope + intercept\n",
    "line_eq = \"y = \" + str(round(slope, 2)) + \"x + \" + str(round(intercept, 2))\n",
    "\n",
    "# Plotting the scatter data for Max Temp vs. Latitude in the Northern Hemisphere\n",
    "plt.scatter(x, y)\n",
    "plt.plot(x, regress_values, 'r-')\n",
    "plt.xlabel('Latitude')\n",
    "plt.ylabel('Max Temperature (F)')\n",
    "plt.title('Southern Hemisphere - Max Temp vs City Latitude (2/2/2022)')\n",
    "plt.annotate(line_eq, (-30, 50), fontsize = 15, color = 'red')"
   ]
  },
  {
   "cell_type": "markdown",
   "metadata": {},
   "source": [
    "####  Northern Hemisphere - Humidity (%) vs. Latitude Linear Regression"
   ]
  },
  {
   "cell_type": "code",
   "execution_count": 34,
   "metadata": {},
   "outputs": [
    {
     "data": {
      "text/plain": [
       "Text(10, 50, 'y = 0.42x + 56.53')"
      ]
     },
     "execution_count": 34,
     "metadata": {},
     "output_type": "execute_result"
    },
    {
     "data": {
      "image/png": "[encoded data removed]",
      "text/plain": [
       "<Figure size 432x288 with 1 Axes>"
      ]
     },
     "metadata": {
      "needs_background": "light"
     },
     "output_type": "display_data"
    }
   ],
   "source": [
    "# Determining the linear regression of the plot\n",
    "x = northern_cities_df['Lat']\n",
    "y = northern_cities_df['Humidity']\n",
    "(slope, intercept, rvalue, pvalue, stdder) = st.linregress(x, y)\n",
    "regress_values = x*slope + intercept\n",
    "line_eq = \"y = \" + str(round(slope, 2)) + \"x + \" + str(round(intercept, 2))\n",
    "\n",
    "# Plotting the scatter data for Max Temp vs. Latitude in the Northern Hemisphere\n",
    "plt.scatter(x, y)\n",
    "plt.plot(x, regress_values, 'r-')\n",
    "plt.xlabel('Latitude')\n",
    "plt.ylabel('Humidity (%)')\n",
    "plt.title('Northern Hemisphere - Humidity vs City Latitude (2/2/2022)')\n",
    "plt.annotate(line_eq, (10, 50), fontsize = 15, color = 'red')"
   ]
  },
  {
   "cell_type": "markdown",
   "metadata": {},
   "source": [
    "####  Southern Hemisphere - Humidity (%) vs. Latitude Linear Regression"
   ]
  },
  {
   "cell_type": "code",
   "execution_count": 35,
   "metadata": {},
   "outputs": [
    {
     "data": {
      "text/plain": [
       "Text(-40, 60, 'y = 0.3x + 82.79')"
      ]
     },
     "execution_count": 35,
     "metadata": {},
     "output_type": "execute_result"
    },
    {
     "data": {
      "image/png": "[encoded data removed]",
      "text/plain": [
       "<Figure size 432x288 with 1 Axes>"
      ]
     },
     "metadata": {
      "needs_background": "light"
     },
     "output_type": "display_data"
    }
   ],
   "source": [
    "# Determining the linear regression of the plot\n",
    "x = southern_cities_df['Lat']\n",
    "y = southern_cities_df['Humidity']\n",
    "(slope, intercept, rvalue, pvalue, stdder) = st.linregress(x, y)\n",
    "regress_values = x*slope + intercept\n",
    "line_eq = \"y = \" + str(round(slope, 2)) + \"x + \" + str(round(intercept, 2))\n",
    "\n",
    "# Plotting the scatter data for Max Temp vs. Latitude in the Northern Hemisphere\n",
    "plt.scatter(x, y)\n",
    "plt.plot(x, regress_values, 'r-')\n",
    "plt.xlabel('Latitude')\n",
    "plt.ylabel('Humidity (%)')\n",
    "plt.title('Southern Hemisphere - Humidity vs City Latitude (2/2/2022)')\n",
    "plt.annotate(line_eq, (-40, 60), fontsize = 15, color = 'red')"
   ]
  },
  {
   "cell_type": "markdown",
   "metadata": {},
   "source": [
    "####  Northern Hemisphere - Cloudiness (%) vs. Latitude Linear Regression"
   ]
  },
  {
   "cell_type": "code",
   "execution_count": 36,
   "metadata": {},
   "outputs": [
    {
     "data": {
      "text/plain": [
       "Text(40, 50, 'y = 0.68x + 35.14')"
      ]
     },
     "execution_count": 36,
     "metadata": {},
     "output_type": "execute_result"
    },
    {
     "data": {
      "image/png": "[encoded data removed]",
      "text/plain": [
       "<Figure size 432x288 with 1 Axes>"
      ]
     },
     "metadata": {
      "needs_background": "light"
     },
     "output_type": "display_data"
    }
   ],
   "source": [
    "# Determining the linear regression of the plot\n",
    "x = northern_cities_df['Lat']\n",
    "y = northern_cities_df['Cloudiness']\n",
    "(slope, intercept, rvalue, pvalue, stdder) = st.linregress(x, y)\n",
    "regress_values = x*slope + intercept\n",
    "line_eq = \"y = \" + str(round(slope, 2)) + \"x + \" + str(round(intercept, 2))\n",
    "\n",
    "# Plotting the scatter data for Max Temp vs. Latitude in the Northern Hemisphere\n",
    "plt.scatter(x, y)\n",
    "plt.plot(x, regress_values, 'r-')\n",
    "plt.xlabel('Latitude')\n",
    "plt.ylabel('Cloudiness (%)')\n",
    "plt.title('Northern Hemisphere - Cloudiness vs City Latitude (2/2/2022)')\n",
    "plt.annotate(line_eq, (40, 50), fontsize = 15, color = 'red')"
   ]
  },
  {
   "cell_type": "markdown",
   "metadata": {},
   "source": [
    "####  Southern Hemisphere - Cloudiness (%) vs. Latitude Linear Regression"
   ]
  },
  {
   "cell_type": "code",
   "execution_count": 43,
   "metadata": {},
   "outputs": [
    {
     "data": {
      "text/plain": [
       "Text(-40, 45, 'y = 0.33x + 69.42')"
      ]
     },
     "execution_count": 43,
     "metadata": {},
     "output_type": "execute_result"
    },
    {
     "data": {
      "image/png": "[encoded data removed]",
      "text/plain": [
       "<Figure size 432x288 with 1 Axes>"
      ]
     },
     "metadata": {
      "needs_background": "light"
     },
     "output_type": "display_data"
    }
   ],
   "source": [
    "# Determining the linear regression of the plot\n",
    "x = southern_cities_df['Lat']\n",
    "y = southern_cities_df['Cloudiness']\n",
    "(slope, intercept, rvalue, pvalue, stdder) = st.linregress(x, y)\n",
    "regress_values = x*slope + intercept\n",
    "line_eq = \"y = \" + str(round(slope, 2)) + \"x + \" + str(round(intercept, 2))\n",
    "\n",
    "# Plotting the scatter data for Max Temp vs. Latitude in the Northern Hemisphere\n",
    "plt.scatter(x, y)\n",
    "plt.plot(x, regress_values, 'r-')\n",
    "plt.xlabel('Latitude')\n",
    "plt.ylabel('Cloudiness (%)')\n",
    "plt.title('Southern Hemisphere - Cloudiness vs City Latitude (2/2/2022)')\n",
    "plt.annotate(line_eq, (-40, 45), fontsize = 15, color = 'red')"
   ]
  },
  {
   "cell_type": "markdown",
   "metadata": {},
   "source": [
    "####  Northern Hemisphere - Wind Speed (mph) vs. Latitude Linear Regression"
   ]
  },
  {
   "cell_type": "code",
   "execution_count": 44,
   "metadata": {},
   "outputs": [
    {
     "data": {
      "text/plain": [
       "Text(40, 10, 'y = 0.0x + 7.47')"
      ]
     },
     "execution_count": 44,
     "metadata": {},
     "output_type": "execute_result"
    },
    {
     "data": {
      "image/png": "[encoded data removed]",
      "text/plain": [
       "<Figure size 432x288 with 1 Axes>"
      ]
     },
     "metadata": {
      "needs_background": "light"
     },
     "output_type": "display_data"
    }
   ],
   "source": [
    "# Determining the linear regression of the plot\n",
    "x = northern_cities_df['Lat']\n",
    "y = northern_cities_df['Wind Speed']\n",
    "(slope, intercept, rvalue, pvalue, stdder) = st.linregress(x, y)\n",
    "regress_values = x*slope + intercept\n",
    "line_eq = \"y = \" + str(round(slope, 2)) + \"x + \" + str(round(intercept, 2))\n",
    "\n",
    "# Plotting the scatter data for Max Temp vs. Latitude in the Northern Hemisphere\n",
    "plt.scatter(x, y)\n",
    "plt.plot(x, regress_values, 'r-')\n",
    "plt.xlabel('Latitude')\n",
    "plt.ylabel('Wind Speed (mph)')\n",
    "plt.title('Northern Hemisphere - Wind Speed vs City Latitude (2/2/2022)')\n",
    "plt.annotate(line_eq, (40, 10), fontsize = 15, color = 'red')"
   ]
  },
  {
   "cell_type": "markdown",
   "metadata": {},
   "source": [
    "####  Southern Hemisphere - Wind Speed (mph) vs. Latitude Linear Regression"
   ]
  },
  {
   "cell_type": "code",
   "execution_count": 45,
   "metadata": {},
   "outputs": [
    {
     "data": {
      "text/plain": [
       "Text(-50, 15, 'y = -0.14x + 5.23')"
      ]
     },
     "execution_count": 45,
     "metadata": {},
     "output_type": "execute_result"
    },
    {
     "data": {
      "image/png": "[encoded data removed]",
      "text/plain": [
       "<Figure size 432x288 with 1 Axes>"
      ]
     },
     "metadata": {
      "needs_background": "light"
     },
     "output_type": "display_data"
    }
   ],
   "source": [
    "# Determining the linear regression of the plot\n",
    "x = southern_cities_df['Lat']\n",
    "y = southern_cities_df['Wind Speed']\n",
    "(slope, intercept, rvalue, pvalue, stdder) = st.linregress(x, y)\n",
    "regress_values = x*slope + intercept\n",
    "line_eq = \"y = \" + str(round(slope, 2)) + \"x + \" + str(round(intercept, 2))\n",
    "\n",
    "# Plotting the scatter data for Max Temp vs. Latitude in the Northern Hemisphere\n",
    "plt.scatter(x, y)\n",
    "plt.plot(x, regress_values, 'r-')\n",
    "plt.xlabel('Latitude')\n",
    "plt.ylabel('Wind Speed (mph)')\n",
    "plt.title('Southern Hemisphere - Wind Speed vs City Latitude (2/2/2022)')\n",
    "plt.annotate(line_eq, (-50, 15), fontsize = 15, color = 'red')"
   ]
  }
 ],
 "metadata": {
  "anaconda-cloud": {},
  "kernel_info": {
   "name": "python3"
  },
  "kernelspec": {
   "display_name": "Python [conda env:PythonData] *",
   "language": "python",
   "name": "conda-env-PythonData-py"
  },
  "language_info": {
   "codemirror_mode": {
    "name": "ipython",
    "version": 3
   },
   "file_extension": ".py",
   "mimetype": "text/x-python",
   "name": "python",
   "nbconvert_exporter": "python",
   "pygments_lexer": "ipython3",
   "version": "3.6.10"
  },
  "latex_envs": {
   "LaTeX_envs_menu_present": true,
   "autoclose": false,
   "autocomplete": true,
   "bibliofile": "biblio.bib",
   "cite_by": "apalike",
   "current_citInitial": 1,
   "eqLabelWithNumbers": true,
   "eqNumInitial": 1,
   "hotkeys": {
    "equation": "Ctrl-E",
    "itemize": "Ctrl-I"
   },
   "labels_anchors": false,
   "latex_user_defs": false,
   "report_style_numbering": false,
   "user_envs_cfg": false
  },
  "nteract": {
   "version": "0.12.3"
  }
 },
 "nbformat": 4,
 "nbformat_minor": 2
}
